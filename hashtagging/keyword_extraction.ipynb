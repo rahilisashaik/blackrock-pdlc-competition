{
 "cells": [
  {
   "cell_type": "code",
   "execution_count": 11,
   "metadata": {},
   "outputs": [
    {
     "name": "stderr",
     "output_type": "stream",
     "text": [
      "[nltk_data] Downloading package punkt to\n",
      "[nltk_data]     /Users/rahilshaik/nltk_data...\n",
      "[nltk_data]   Package punkt is already up-to-date!\n",
      "[nltk_data] Downloading package stopwords to\n",
      "[nltk_data]     /Users/rahilshaik/nltk_data...\n",
      "[nltk_data]   Package stopwords is already up-to-date!\n"
     ]
    },
    {
     "data": {
      "text/plain": [
       "True"
      ]
     },
     "execution_count": 11,
     "metadata": {},
     "output_type": "execute_result"
    }
   ],
   "source": [
    "import nltk\n",
    "from collections import Counter\n",
    "from nltk.corpus import stopwords\n",
    "from nltk.tokenize import word_tokenize\n",
    "from sklearn.feature_extraction.text import CountVectorizer\n",
    "from sklearn.decomposition import LatentDirichletAllocation\n",
    "from gensim.models import Word2Vec\n",
    "from sklearn.metrics.pairwise import cosine_similarity\n",
    "import numpy as np\n",
    "\n",
    "nltk.download('punkt')\n",
    "nltk.download('stopwords')"
   ]
  },
  {
   "cell_type": "code",
   "execution_count": 12,
   "metadata": {},
   "outputs": [],
   "source": [
    "def word_frequency_count(text):\n",
    "    words = word_tokenize(text.lower())\n",
    "    stop_words = set(stopwords.words('english'))\n",
    "    filtered_words = [word for word in words if word.isalnum() and word not in stop_words]\n",
    "\n",
    "    word_freq = Counter(filtered_words)\n",
    "\n",
    "    keywords = [word for word, _ in word_freq.most_common(10)]\n",
    "\n",
    "    return keywords\n"
   ]
  },
  {
   "cell_type": "code",
   "execution_count": 13,
   "metadata": {},
   "outputs": [],
   "source": [
    "def lda_topics(text, n_topics=5, n_top_words=10):\n",
    "    sentences = text.split(\". \")\n",
    "\n",
    "    vectorizer = CountVectorizer(max_df=0.95, min_df=2, stop_words='english')\n",
    "    dtm = vectorizer.fit_transform(sentences)\n",
    "\n",
    "    lda = LatentDirichletAllocation(n_components=n_topics, random_state=0)\n",
    "    lda.fit(dtm)\n",
    "\n",
    "    lda_keywords = set()\n",
    "    for topic in lda.components_:\n",
    "        lda_keywords.update([vectorizer.get_feature_names_out()[i] for i in topic.argsort()[-n_top_words:]])\n",
    "\n",
    "    return list(lda_keywords)\n"
   ]
  },
  {
   "cell_type": "code",
   "execution_count": 14,
   "metadata": {},
   "outputs": [],
   "source": [
    "def intersect_keywords_and_topics(keywords, lda_keywords):\n",
    "    return list(set(keywords) & set(lda_keywords))\n"
   ]
  },
  {
   "cell_type": "code",
   "execution_count": 16,
   "metadata": {},
   "outputs": [],
   "source": [
    "\n",
    "sentences = [[\"gorbachev\", \"this\", \"is\", \"a\", \"sample\", \"sentence\"],\n",
    "             [\"another\", \"example\", \"sentence\", \"for\", \"word2vec\"]]\n",
    "\n",
    "word2vec_model = Word2Vec(sentences, vector_size=100, window=5, min_count=1, workers=4)\n",
    "\n",
    "def cosine_sim(word1, word2):\n",
    "    if word1 in word2vec_model.wv and word2 in word2vec_model.wv:\n",
    "        return cosine_similarity([word2vec_model.wv[word1]], [word2vec_model.wv[word2]])[0][0]\n",
    "    return 0\n",
    "\n",
    "def cosine_similarity_filter(keywords, lda_keywords, threshold=0.75):\n",
    "    similar_words = []\n",
    "    for kw in keywords:\n",
    "        for lda_kw in lda_keywords:\n",
    "            if cosine_sim(kw, lda_kw) >= threshold:\n",
    "                similar_words.append((kw, lda_kw))\n",
    "    return similar_words\n"
   ]
  },
  {
   "cell_type": "code",
   "execution_count": 17,
   "metadata": {},
   "outputs": [],
   "source": [
    "def process_text(text):\n",
    "    keywords = word_frequency_count(text)\n",
    "    lda_keywords = lda_topics(text)\n",
    "\n",
    "    intersection = intersect_keywords_and_topics(keywords, lda_keywords)\n",
    "\n",
    "    similar_words = cosine_similarity_filter(keywords, lda_keywords)\n",
    "\n",
    "    return intersection, similar_words"
   ]
  }
 ],
 "metadata": {
  "kernelspec": {
   "display_name": "Python 3",
   "language": "python",
   "name": "python3"
  },
  "language_info": {
   "codemirror_mode": {
    "name": "ipython",
    "version": 3
   },
   "file_extension": ".py",
   "mimetype": "text/x-python",
   "name": "python",
   "nbconvert_exporter": "python",
   "pygments_lexer": "ipython3",
   "version": "3.10.13"
  }
 },
 "nbformat": 4,
 "nbformat_minor": 2
}
